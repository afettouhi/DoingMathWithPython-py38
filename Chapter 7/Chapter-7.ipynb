{
 "cells": [
  {
   "cell_type": "code",
   "execution_count": 1,
   "metadata": {
    "collapsed": true
   },
   "outputs": [
    {
     "data": {
      "text/plain": "1.0"
     },
     "execution_count": 1,
     "metadata": {},
     "output_type": "execute_result"
    }
   ],
   "source": [
    "import math\n",
    "math.sin(math.pi/2)"
   ]
  },
  {
   "cell_type": "code",
   "execution_count": 2,
   "outputs": [
    {
     "data": {
      "text/plain": "1.00000000000000",
      "text/latex": "$\\displaystyle 1.0$"
     },
     "execution_count": 2,
     "metadata": {},
     "output_type": "execute_result"
    }
   ],
   "source": [
    "import sympy\n",
    "sympy.sin(math.pi/2)"
   ],
   "metadata": {
    "collapsed": false,
    "pycharm": {
     "name": "#%%\n"
    }
   }
  },
  {
   "cell_type": "code",
   "execution_count": 3,
   "outputs": [
    {
     "ename": "TypeError",
     "evalue": "can't convert expression to float",
     "output_type": "error",
     "traceback": [
      "\u001B[0;31m---------------------------------------------------------------------------\u001B[0m",
      "\u001B[0;31mTypeError\u001B[0m                                 Traceback (most recent call last)",
      "\u001B[0;32m<ipython-input-3-04426bf1a48c>\u001B[0m in \u001B[0;36m<module>\u001B[0;34m\u001B[0m\n\u001B[1;32m      1\u001B[0m \u001B[0;32mfrom\u001B[0m \u001B[0msympy\u001B[0m \u001B[0;32mimport\u001B[0m \u001B[0mSymbol\u001B[0m\u001B[0;34m\u001B[0m\u001B[0;34m\u001B[0m\u001B[0m\n\u001B[1;32m      2\u001B[0m \u001B[0mtheta\u001B[0m \u001B[0;34m=\u001B[0m \u001B[0mSymbol\u001B[0m\u001B[0;34m(\u001B[0m\u001B[0;34m'theta'\u001B[0m\u001B[0;34m)\u001B[0m\u001B[0;34m\u001B[0m\u001B[0;34m\u001B[0m\u001B[0m\n\u001B[0;32m----> 3\u001B[0;31m \u001B[0mmath\u001B[0m\u001B[0;34m.\u001B[0m\u001B[0msin\u001B[0m\u001B[0;34m(\u001B[0m\u001B[0mtheta\u001B[0m\u001B[0;34m)\u001B[0m \u001B[0;34m+\u001B[0m \u001B[0mmath\u001B[0m\u001B[0;34m.\u001B[0m\u001B[0msin\u001B[0m\u001B[0;34m(\u001B[0m\u001B[0mtheta\u001B[0m\u001B[0;34m)\u001B[0m\u001B[0;34m\u001B[0m\u001B[0;34m\u001B[0m\u001B[0m\n\u001B[0m\u001B[1;32m      4\u001B[0m \u001B[0;34m\u001B[0m\u001B[0m\n",
      "\u001B[0;32m~/Dokumenter/Programs/miniconda3/envs/DoingMathWithPython-py38/lib/python3.8/site-packages/sympy/core/expr.py\u001B[0m in \u001B[0;36m__float__\u001B[0;34m(self)\u001B[0m\n\u001B[1;32m    323\u001B[0m         \u001B[0;32mif\u001B[0m \u001B[0mresult\u001B[0m\u001B[0;34m.\u001B[0m\u001B[0mis_number\u001B[0m \u001B[0;32mand\u001B[0m \u001B[0mresult\u001B[0m\u001B[0;34m.\u001B[0m\u001B[0mas_real_imag\u001B[0m\u001B[0;34m(\u001B[0m\u001B[0;34m)\u001B[0m\u001B[0;34m[\u001B[0m\u001B[0;36m1\u001B[0m\u001B[0;34m]\u001B[0m\u001B[0;34m:\u001B[0m\u001B[0;34m\u001B[0m\u001B[0;34m\u001B[0m\u001B[0m\n\u001B[1;32m    324\u001B[0m             \u001B[0;32mraise\u001B[0m \u001B[0mTypeError\u001B[0m\u001B[0;34m(\u001B[0m\u001B[0;34m\"can't convert complex to float\"\u001B[0m\u001B[0;34m)\u001B[0m\u001B[0;34m\u001B[0m\u001B[0;34m\u001B[0m\u001B[0m\n\u001B[0;32m--> 325\u001B[0;31m         \u001B[0;32mraise\u001B[0m \u001B[0mTypeError\u001B[0m\u001B[0;34m(\u001B[0m\u001B[0;34m\"can't convert expression to float\"\u001B[0m\u001B[0;34m)\u001B[0m\u001B[0;34m\u001B[0m\u001B[0;34m\u001B[0m\u001B[0m\n\u001B[0m\u001B[1;32m    326\u001B[0m \u001B[0;34m\u001B[0m\u001B[0m\n\u001B[1;32m    327\u001B[0m     \u001B[0;32mdef\u001B[0m \u001B[0m__complex__\u001B[0m\u001B[0;34m(\u001B[0m\u001B[0mself\u001B[0m\u001B[0;34m)\u001B[0m\u001B[0;34m:\u001B[0m\u001B[0;34m\u001B[0m\u001B[0;34m\u001B[0m\u001B[0m\n",
      "\u001B[0;31mTypeError\u001B[0m: can't convert expression to float"
     ]
    }
   ],
   "source": [
    "from sympy import Symbol\n",
    "theta = Symbol('theta')\n",
    "math.sin(theta) + math.sin(theta)"
   ],
   "metadata": {
    "collapsed": false,
    "pycharm": {
     "name": "#%%\n"
    }
   }
  },
  {
   "cell_type": "code",
   "execution_count": 4,
   "outputs": [
    {
     "data": {
      "text/plain": "2*sin(theta)",
      "text/latex": "$\\displaystyle 2 \\sin{\\left(\\theta \\right)}$"
     },
     "execution_count": 4,
     "metadata": {},
     "output_type": "execute_result"
    }
   ],
   "source": [
    "sympy.sin(theta) + sympy.sin(theta)"
   ],
   "metadata": {
    "collapsed": false,
    "pycharm": {
     "name": "#%%\n"
    }
   }
  },
  {
   "cell_type": "code",
   "execution_count": 5,
   "outputs": [
    {
     "data": {
      "text/plain": "[u*sin(theta)/g]"
     },
     "execution_count": 5,
     "metadata": {},
     "output_type": "execute_result"
    }
   ],
   "source": [
    "from sympy import sin, solve, Symbol\n",
    "u = Symbol('u')\n",
    "t = Symbol('t')\n",
    "g = Symbol('g')\n",
    "theta = Symbol('theta')\n",
    "solve(u*sin(theta)-g*t, t)"
   ],
   "metadata": {
    "collapsed": false,
    "pycharm": {
     "name": "#%%\n"
    }
   }
  },
  {
   "cell_type": "code",
   "execution_count": 6,
   "outputs": [
    {
     "ename": "TypeError",
     "evalue": "cannot determine truth value of Relational",
     "output_type": "error",
     "traceback": [
      "\u001B[0;31m---------------------------------------------------------------------------\u001B[0m",
      "\u001B[0;31mTypeError\u001B[0m                                 Traceback (most recent call last)",
      "\u001B[0;32m<ipython-input-6-146885b48a10>\u001B[0m in \u001B[0;36m<module>\u001B[0;34m\u001B[0m\n\u001B[1;32m      1\u001B[0m \u001B[0;32mfrom\u001B[0m \u001B[0msympy\u001B[0m \u001B[0;32mimport\u001B[0m \u001B[0mSymbol\u001B[0m\u001B[0;34m\u001B[0m\u001B[0;34m\u001B[0m\u001B[0m\n\u001B[1;32m      2\u001B[0m \u001B[0mx\u001B[0m \u001B[0;34m=\u001B[0m \u001B[0mSymbol\u001B[0m\u001B[0;34m(\u001B[0m\u001B[0;34m'x'\u001B[0m\u001B[0;34m)\u001B[0m\u001B[0;34m\u001B[0m\u001B[0;34m\u001B[0m\u001B[0m\n\u001B[0;32m----> 3\u001B[0;31m \u001B[0;32mif\u001B[0m \u001B[0;34m(\u001B[0m\u001B[0mx\u001B[0m\u001B[0;34m+\u001B[0m\u001B[0;36m5\u001B[0m\u001B[0;34m)\u001B[0m \u001B[0;34m>\u001B[0m \u001B[0;36m0\u001B[0m\u001B[0;34m:\u001B[0m\u001B[0;34m\u001B[0m\u001B[0;34m\u001B[0m\u001B[0m\n\u001B[0m\u001B[1;32m      4\u001B[0m     \u001B[0mprint\u001B[0m\u001B[0;34m(\u001B[0m\u001B[0;34m'Do Something'\u001B[0m\u001B[0;34m)\u001B[0m\u001B[0;34m\u001B[0m\u001B[0;34m\u001B[0m\u001B[0m\n\u001B[1;32m      5\u001B[0m \u001B[0;32melse\u001B[0m\u001B[0;34m:\u001B[0m\u001B[0;34m\u001B[0m\u001B[0;34m\u001B[0m\u001B[0m\n",
      "\u001B[0;32m~/Dokumenter/Programs/miniconda3/envs/DoingMathWithPython-py38/lib/python3.8/site-packages/sympy/core/relational.py\u001B[0m in \u001B[0;36m__nonzero__\u001B[0;34m(self)\u001B[0m\n\u001B[1;32m    374\u001B[0m \u001B[0;34m\u001B[0m\u001B[0m\n\u001B[1;32m    375\u001B[0m     \u001B[0;32mdef\u001B[0m \u001B[0m__nonzero__\u001B[0m\u001B[0;34m(\u001B[0m\u001B[0mself\u001B[0m\u001B[0;34m)\u001B[0m\u001B[0;34m:\u001B[0m\u001B[0;34m\u001B[0m\u001B[0;34m\u001B[0m\u001B[0m\n\u001B[0;32m--> 376\u001B[0;31m         \u001B[0;32mraise\u001B[0m \u001B[0mTypeError\u001B[0m\u001B[0;34m(\u001B[0m\u001B[0;34m\"cannot determine truth value of Relational\"\u001B[0m\u001B[0;34m)\u001B[0m\u001B[0;34m\u001B[0m\u001B[0;34m\u001B[0m\u001B[0m\n\u001B[0m\u001B[1;32m    377\u001B[0m \u001B[0;34m\u001B[0m\u001B[0m\n\u001B[1;32m    378\u001B[0m     \u001B[0m__bool__\u001B[0m \u001B[0;34m=\u001B[0m \u001B[0m__nonzero__\u001B[0m\u001B[0;34m\u001B[0m\u001B[0;34m\u001B[0m\u001B[0m\n",
      "\u001B[0;31mTypeError\u001B[0m: cannot determine truth value of Relational"
     ]
    }
   ],
   "source": [
    "from sympy import Symbol\n",
    "x = Symbol('x')\n",
    "if (x+5) > 0:\n",
    "    print('Do Something')\n",
    "else:\n",
    "    print('Do Something else')"
   ],
   "metadata": {
    "collapsed": false,
    "pycharm": {
     "name": "#%%\n"
    }
   }
  },
  {
   "cell_type": "code",
   "execution_count": 7,
   "outputs": [
    {
     "name": "stdout",
     "output_type": "stream",
     "text": [
      "Do Something\n"
     ]
    }
   ],
   "source": [
    "x = Symbol('x', positive=True)\n",
    "if (x+5) > 0:\n",
    "    print('Do Something')\n",
    "else:\n",
    "    print('Do Something else')"
   ],
   "metadata": {
    "collapsed": false,
    "pycharm": {
     "name": "#%%\n"
    }
   }
  },
  {
   "cell_type": "code",
   "execution_count": 8,
   "outputs": [
    {
     "data": {
      "text/plain": "Limit(1/x, x, oo, dir='-')",
      "text/latex": "$\\displaystyle \\lim_{x \\to \\infty} \\frac{1}{x}$"
     },
     "execution_count": 8,
     "metadata": {},
     "output_type": "execute_result"
    }
   ],
   "source": [
    "from sympy import Limit, Symbol, S\n",
    "x = Symbol('x')\n",
    "Limit(1/x, x, S.Infinity)"
   ],
   "metadata": {
    "collapsed": false,
    "pycharm": {
     "name": "#%%\n"
    }
   }
  },
  {
   "cell_type": "code",
   "execution_count": 9,
   "outputs": [
    {
     "data": {
      "text/plain": "0",
      "text/latex": "$\\displaystyle 0$"
     },
     "execution_count": 9,
     "metadata": {},
     "output_type": "execute_result"
    }
   ],
   "source": [
    "l = Limit(1/x, x, S.Infinity)\n",
    "l.doit()"
   ],
   "metadata": {
    "collapsed": false,
    "pycharm": {
     "name": "#%%\n"
    }
   }
  },
  {
   "cell_type": "code",
   "execution_count": 10,
   "outputs": [
    {
     "data": {
      "text/plain": "-oo",
      "text/latex": "$\\displaystyle -\\infty$"
     },
     "execution_count": 10,
     "metadata": {},
     "output_type": "execute_result"
    }
   ],
   "source": [
    "Limit(1/x, x, 0, dir='-').doit()"
   ],
   "metadata": {
    "collapsed": false,
    "pycharm": {
     "name": "#%%\n"
    }
   }
  },
  {
   "cell_type": "code",
   "execution_count": 11,
   "outputs": [
    {
     "data": {
      "text/plain": "oo",
      "text/latex": "$\\displaystyle \\infty$"
     },
     "execution_count": 11,
     "metadata": {},
     "output_type": "execute_result"
    }
   ],
   "source": [
    "Limit(1/x, x, 0, dir='+').doit()"
   ],
   "metadata": {
    "collapsed": false,
    "pycharm": {
     "name": "#%%\n"
    }
   }
  },
  {
   "cell_type": "code",
   "execution_count": 12,
   "outputs": [
    {
     "data": {
      "text/plain": "1",
      "text/latex": "$\\displaystyle 1$"
     },
     "execution_count": 12,
     "metadata": {},
     "output_type": "execute_result"
    }
   ],
   "source": [
    "from sympy import Symbol, sin\n",
    "Limit(sin(x)/x, x, 0).doit()"
   ],
   "metadata": {
    "collapsed": false,
    "pycharm": {
     "name": "#%%\n"
    }
   }
  },
  {
   "cell_type": "code",
   "execution_count": 13,
   "outputs": [
    {
     "data": {
      "text/plain": "E",
      "text/latex": "$\\displaystyle e$"
     },
     "execution_count": 13,
     "metadata": {},
     "output_type": "execute_result"
    }
   ],
   "source": [
    "from sympy import Limit, Symbol, S\n",
    "n = Symbol('n')\n",
    "Limit((1+1/n)**n, n, S.Infinity).doit()"
   ],
   "metadata": {
    "collapsed": false,
    "pycharm": {
     "name": "#%%\n"
    }
   }
  },
  {
   "cell_type": "code",
   "execution_count": 14,
   "outputs": [
    {
     "data": {
      "text/plain": "p*exp(r*t)",
      "text/latex": "$\\displaystyle p e^{r t}$"
     },
     "execution_count": 14,
     "metadata": {},
     "output_type": "execute_result"
    }
   ],
   "source": [
    "from sympy import Symbol, Limit, S\n",
    "p = Symbol('p', positive=True)\n",
    "r = Symbol('r', positive=True)\n",
    "t = Symbol('t', positive=True)\n",
    "Limit(p*(1+r/n)**(n*t), n, S.Infinity).doit()"
   ],
   "metadata": {
    "collapsed": false,
    "pycharm": {
     "name": "#%%\n"
    }
   }
  },
  {
   "cell_type": "code",
   "execution_count": 15,
   "outputs": [],
   "source": [
    "from sympy import Symbol, Limit\n",
    "t = Symbol('t')\n",
    "St = 5*t**2 + 2*t + 8\n",
    "\n",
    "t1 = Symbol('t1')\n",
    "delta_t = Symbol('delta_t')\n",
    "\n",
    "St1 = St.subs({t: t1})\n",
    "St1_delta = St.subs({t: t1 + delta_t})"
   ],
   "metadata": {
    "collapsed": false,
    "pycharm": {
     "name": "#%%\n"
    }
   }
  },
  {
   "cell_type": "code",
   "execution_count": 16,
   "outputs": [
    {
     "data": {
      "text/plain": "10*t1 + 2",
      "text/latex": "$\\displaystyle 10 t_{1} + 2$"
     },
     "execution_count": 16,
     "metadata": {},
     "output_type": "execute_result"
    }
   ],
   "source": [
    "Limit((St1_delta-St1)/delta_t, delta_t, 0).doit()"
   ],
   "metadata": {
    "collapsed": false,
    "pycharm": {
     "name": "#%%\n"
    }
   }
  },
  {
   "cell_type": "code",
   "execution_count": 17,
   "outputs": [
    {
     "data": {
      "text/plain": "Derivative(5*t**2 + 2*t + 8, t)",
      "text/latex": "$\\displaystyle \\frac{d}{d t} \\left(5 t^{2} + 2 t + 8\\right)$"
     },
     "execution_count": 17,
     "metadata": {},
     "output_type": "execute_result"
    }
   ],
   "source": [
    "from sympy import Symbol, Derivative\n",
    "\n",
    "t = Symbol('t')\n",
    "St = 5*t**2 + 2*t + 8\n",
    "\n",
    "Derivative(St, t)"
   ],
   "metadata": {
    "collapsed": false,
    "pycharm": {
     "name": "#%%\n"
    }
   }
  },
  {
   "cell_type": "code",
   "execution_count": 18,
   "outputs": [
    {
     "data": {
      "text/plain": "10*t + 2",
      "text/latex": "$\\displaystyle 10 t + 2$"
     },
     "execution_count": 18,
     "metadata": {},
     "output_type": "execute_result"
    }
   ],
   "source": [
    "d = Derivative(St, t)\n",
    "d.doit()"
   ],
   "metadata": {
    "collapsed": false,
    "pycharm": {
     "name": "#%%\n"
    }
   }
  },
  {
   "cell_type": "code",
   "execution_count": 19,
   "outputs": [
    {
     "data": {
      "text/plain": "12",
      "text/latex": "$\\displaystyle 12$"
     },
     "execution_count": 19,
     "metadata": {},
     "output_type": "execute_result"
    }
   ],
   "source": [
    "d.doit().subs({t:t1})\n",
    "\n",
    "d.doit().subs({t:1})"
   ],
   "metadata": {
    "collapsed": false,
    "pycharm": {
     "name": "#%%\n"
    }
   }
  },
  {
   "cell_type": "code",
   "execution_count": 20,
   "outputs": [
    {
     "data": {
      "text/plain": "(2*x + 1)*(x**3 + x**2 + x) + (x**2 + x)*(3*x**2 + 2*x + 1)",
      "text/latex": "$\\displaystyle \\left(2 x + 1\\right) \\left(x^{3} + x^{2} + x\\right) + \\left(x^{2} + x\\right) \\left(3 x^{2} + 2 x + 1\\right)$"
     },
     "execution_count": 20,
     "metadata": {},
     "output_type": "execute_result"
    }
   ],
   "source": [
    "from sympy import Derivative, Symbol\n",
    "x = Symbol('x')\n",
    "f = (x**3 + x**2 + x)*(x**2+x)\n",
    "Derivative(f, x).doit()"
   ],
   "metadata": {
    "collapsed": false,
    "pycharm": {
     "name": "#%%\n"
    }
   }
  },
  {
   "cell_type": "code",
   "execution_count": 21,
   "outputs": [
    {
     "name": "stdout",
     "output_type": "stream",
     "text": [
      "   3\n",
      "4⋅x \n"
     ]
    }
   ],
   "source": [
    "\"\"\"\n",
    "Derivative calculator\n",
    "\"\"\"\n",
    "\n",
    "from sympy import Symbol, Derivative, sympify, pprint\n",
    "from sympy.core.sympify import SympifyError\n",
    "\n",
    "def derivative(f, var):\n",
    "    var = Symbol(var)\n",
    "    d = Derivative(f, var).doit()\n",
    "    pprint(d)\n",
    "\n",
    "if __name__=='__main__':\n",
    "\n",
    "    f = input('Enter a function: ')\n",
    "    var = input('Enter the variable to differentiate with respect to: ')\n",
    "    try:\n",
    "        f = sympify(f)\n",
    "    except SympifyError:\n",
    "        print('Invalid input')\n",
    "    else:\n",
    "        derivative(f, var)"
   ],
   "metadata": {
    "collapsed": false,
    "pycharm": {
     "name": "#%%\n"
    }
   }
  },
  {
   "cell_type": "code",
   "execution_count": 22,
   "outputs": [],
   "source": [
    "from sympy import Symbol, solve, Derivative\n",
    "x = Symbol('x')\n",
    "f = x**5 - 30*x**3 + 50*x\n",
    "d1 = Derivative(f, x).doit()"
   ],
   "metadata": {
    "collapsed": false,
    "pycharm": {
     "name": "#%%\n"
    }
   }
  },
  {
   "cell_type": "code",
   "execution_count": 23,
   "outputs": [
    {
     "data": {
      "text/plain": "[-sqrt(9 - sqrt(71)),\n sqrt(9 - sqrt(71)),\n -sqrt(sqrt(71) + 9),\n sqrt(sqrt(71) + 9)]"
     },
     "execution_count": 23,
     "metadata": {},
     "output_type": "execute_result"
    }
   ],
   "source": [
    "critical_points = solve(d1)\n",
    "critical_points"
   ],
   "metadata": {
    "collapsed": false,
    "pycharm": {
     "name": "#%%\n"
    }
   }
  },
  {
   "cell_type": "code",
   "execution_count": 24,
   "outputs": [],
   "source": [
    "A = critical_points[2]\n",
    "B = critical_points[0]\n",
    "C = critical_points[1]\n",
    "D = critical_points[3]"
   ],
   "metadata": {
    "collapsed": false,
    "pycharm": {
     "name": "#%%\n"
    }
   }
  },
  {
   "cell_type": "code",
   "execution_count": 25,
   "outputs": [],
   "source": [
    "d2 = Derivative(f, x, 2).doit()"
   ],
   "metadata": {
    "collapsed": false,
    "pycharm": {
     "name": "#%%\n"
    }
   }
  },
  {
   "cell_type": "code",
   "execution_count": 26,
   "outputs": [
    {
     "data": {
      "text/plain": "703.493179468151",
      "text/latex": "$\\displaystyle 703.493179468151$"
     },
     "execution_count": 26,
     "metadata": {},
     "output_type": "execute_result"
    }
   ],
   "source": [
    "d2.subs({x:B}).evalf()\n",
    "d2.subs({x:C}).evalf()\n",
    "d2.subs({x:A}).evalf()\n",
    "d2.subs({x:D}).evalf()"
   ],
   "metadata": {
    "collapsed": false,
    "pycharm": {
     "name": "#%%\n"
    }
   }
  },
  {
   "cell_type": "code",
   "execution_count": 27,
   "outputs": [
    {
     "data": {
      "text/plain": "-375.000000000000",
      "text/latex": "$\\displaystyle -375.0$"
     },
     "execution_count": 27,
     "metadata": {},
     "output_type": "execute_result"
    }
   ],
   "source": [
    "x_min = -5\n",
    "x_max = 5\n",
    "\n",
    "f.subs({x:A}).evalf()\n",
    "f.subs({x:C}).evalf()\n",
    "f.subs({x:x_min}).evalf()\n",
    "f.subs({x:x_max}).evalf()"
   ],
   "metadata": {
    "collapsed": false,
    "pycharm": {
     "name": "#%%\n"
    }
   }
  },
  {
   "cell_type": "code",
   "execution_count": 28,
   "outputs": [
    {
     "data": {
      "text/plain": "-375.000000000000",
      "text/latex": "$\\displaystyle -375.0$"
     },
     "execution_count": 28,
     "metadata": {},
     "output_type": "execute_result"
    }
   ],
   "source": [
    "f.subs({x:B}).evalf()\n",
    "f.subs({x:D}).evalf()\n",
    "f.subs({x:x_min}).evalf()\n",
    "f.subs({x:x_max}).evalf()"
   ],
   "metadata": {
    "collapsed": false,
    "pycharm": {
     "name": "#%%\n"
    }
   }
  },
  {
   "cell_type": "code",
   "execution_count": 29,
   "outputs": [
    {
     "name": "stdout",
     "output_type": "stream",
     "text": [
      "Theta: 44.997815081691805\n",
      "Maximum Range: 63.7755100185965\n"
     ]
    }
   ],
   "source": [
    "\"\"\"\n",
    "Use gradient ascent to find the angle at which the projectile\n",
    "has maximum range for a fixed velocity, 25 m/s\n",
    "\"\"\"\n",
    "\n",
    "import math\n",
    "from sympy import Derivative, Symbol, sin\n",
    "\n",
    "def grad_ascent(x0, f1x, x):\n",
    "    epsilon = 1e-6\n",
    "    step_size = 1e-4\n",
    "    x_old = x0\n",
    "    x_new = x_old + step_size*f1x.subs({x:x_old}).evalf()\n",
    "    while abs(x_old - x_new) > epsilon:\n",
    "        x_old = x_new\n",
    "        x_new = x_old + step_size*f1x.subs({x:x_old}).evalf()\n",
    "\n",
    "    return x_new\n",
    "\n",
    "def find_max_theta(R, theta):\n",
    "    # Calculate the first derivative\n",
    "    R1theta = Derivative(R, theta).doit()\n",
    "    theta0 = 1e-3\n",
    "    theta_max = grad_ascent(theta0, R1theta, theta)\n",
    "    return theta_max\n",
    "\n",
    "if __name__ == '__main__':\n",
    "\n",
    "    g = 9.8\n",
    "    # Assume initial velocity\n",
    "    u = 25\n",
    "    # Expression for range\n",
    "    theta = Symbol('theta')\n",
    "    R = u**2*sin(2*theta)/g\n",
    "\n",
    "    theta_max = find_max_theta(R, theta)\n",
    "    print('Theta: {0}'.format(math.degrees(theta_max)))\n",
    "    print('Maximum Range: {0}'.format(R.subs({theta:theta_max})))"
   ],
   "metadata": {
    "collapsed": false,
    "pycharm": {
     "name": "#%%\n"
    }
   }
  },
  {
   "cell_type": "code",
   "execution_count": 30,
   "outputs": [
    {
     "name": "stdout",
     "output_type": "stream",
     "text": [
      "theta: 0.785360029379083\n",
      "Maximum value: 63.7755100185965\n"
     ]
    }
   ],
   "source": [
    "\"\"\"\n",
    "Use gradient ascent to find the maximum value of a\n",
    "single-variable function\n",
    "\"\"\"\n",
    "\n",
    "from sympy import Derivative, Symbol, sympify\n",
    "\n",
    "def grad_ascent(x0, f1x, x):\n",
    "    epsilon = 1e-6\n",
    "    step_size = 1e-4\n",
    "    x_old = x0\n",
    "    x_new = x_old + step_size*f1x.subs({x:x_old}).evalf()\n",
    "    while abs(x_old - x_new) > epsilon:\n",
    "        x_old = x_new\n",
    "        x_new = x_old + step_size*f1x.subs({x:x_old}).evalf()\n",
    "\n",
    "    return x_new\n",
    "\n",
    "if __name__ == '__main__':\n",
    "\n",
    "    f = input('Enter a function in one variable: ')\n",
    "    var = input('Enter the variable to differentiate with respect to: ')\n",
    "    var0 = float(input('Enter the initial value of the variable: '))\n",
    "    try:\n",
    "        f = sympify(f)\n",
    "    except SympifyError:\n",
    "        print('Invalid function entered')\n",
    "    else:\n",
    "        var = Symbol(var)\n",
    "        d = Derivative(f, var).doit()\n",
    "        var_max = grad_ascent(var0, d, var)\n",
    "        print('{0}: {1}'.format(var.name, var_max))\n",
    "        print('Maximum value: {0}'.format(f.subs({var:var_max})))"
   ],
   "metadata": {
    "collapsed": false,
    "pycharm": {
     "name": "#%%\n"
    }
   }
  },
  {
   "cell_type": "code",
   "execution_count": 31,
   "outputs": [
    {
     "name": "stdout",
     "output_type": "stream",
     "text": [
      "Cannot continue, solution for 1/x=0 does not exist\n"
     ]
    }
   ],
   "source": [
    "\"\"\"\n",
    "Use gradient ascent to find the maximum value of a\n",
    "single-variable function. This also checks for the existence\n",
    "of a solution for the equation f'(x)=0.\n",
    "\"\"\"\n",
    "\n",
    "from sympy import Derivative, Symbol, sympify, solve\n",
    "\n",
    "def grad_ascent(x0, f1x, x):\n",
    "    # Check if f1x=0 has a solution\n",
    "    if not solve(f1x):\n",
    "        print('Cannot continue, solution for {0}=0 does not exist'.format(f1x))\n",
    "        return\n",
    "    epsilon = 1e-6\n",
    "    step_size = 1e-4\n",
    "    x_old = x0\n",
    "    x_new = x_old + step_size*f1x.subs({x:x_old}).evalf()\n",
    "    while abs(x_old - x_new) > epsilon:\n",
    "        x_old = x_new\n",
    "        x_new = x_old + step_size*f1x.subs({x:x_old}).evalf()\n",
    "\n",
    "    return x_new\n",
    "\n",
    "if __name__ == '__main__':\n",
    "\n",
    "    f = input('Enter a function in one variable: ')\n",
    "    var = input('Enter the variable to differentiate with respect to: ')\n",
    "    var0 = float(input('Enter the initial value of the variable: '))\n",
    "    try:\n",
    "        f = sympify(f)\n",
    "    except SympifyError:\n",
    "        print('Invalid function entered')\n",
    "    else:\n",
    "        var = Symbol(var)\n",
    "        d = Derivative(f, var).doit()\n",
    "        var_max = grad_ascent(var0, d, var)\n",
    "        if var_max:\n",
    "            print('{0}: {1}'.format(var.name, var_max))\n",
    "            print('Maximum value: {0}'.format(f.subs({var:var_max})))"
   ],
   "metadata": {
    "collapsed": false,
    "pycharm": {
     "name": "#%%\n"
    }
   }
  },
  {
   "cell_type": "code",
   "execution_count": 32,
   "outputs": [
    {
     "data": {
      "text/plain": "Integral(k*x, x)",
      "text/latex": "$\\displaystyle \\int k x\\, dx$"
     },
     "execution_count": 32,
     "metadata": {},
     "output_type": "execute_result"
    }
   ],
   "source": [
    "from sympy import Integral, Symbol\n",
    "x = Symbol('x')\n",
    "k = Symbol('k')\n",
    "Integral(k*x, x)"
   ],
   "metadata": {
    "collapsed": false,
    "pycharm": {
     "name": "#%%\n"
    }
   }
  },
  {
   "cell_type": "code",
   "execution_count": 33,
   "outputs": [
    {
     "data": {
      "text/plain": "k*x**2/2",
      "text/latex": "$\\displaystyle \\frac{k x^{2}}{2}$"
     },
     "execution_count": 33,
     "metadata": {},
     "output_type": "execute_result"
    }
   ],
   "source": [
    "Integral(k*x, x).doit()"
   ],
   "metadata": {
    "collapsed": false,
    "pycharm": {
     "name": "#%%\n"
    }
   }
  },
  {
   "cell_type": "code",
   "execution_count": 34,
   "outputs": [
    {
     "data": {
      "text/plain": "2*k",
      "text/latex": "$\\displaystyle 2 k$"
     },
     "execution_count": 34,
     "metadata": {},
     "output_type": "execute_result"
    }
   ],
   "source": [
    "Integral(k*x, (x, 0, 2)).doit()"
   ],
   "metadata": {
    "collapsed": false,
    "pycharm": {
     "name": "#%%\n"
    }
   }
  },
  {
   "cell_type": "code",
   "execution_count": 35,
   "outputs": [
    {
     "data": {
      "text/plain": "6",
      "text/latex": "$\\displaystyle 6$"
     },
     "execution_count": 35,
     "metadata": {},
     "output_type": "execute_result"
    }
   ],
   "source": [
    "from sympy import Integral, Symbol\n",
    "x = Symbol('x')\n",
    "Integral(x, (x, 2, 4)).doit()"
   ],
   "metadata": {
    "collapsed": false,
    "pycharm": {
     "name": "#%%\n"
    }
   }
  },
  {
   "cell_type": "code",
   "execution_count": 36,
   "outputs": [
    {
     "data": {
      "text/plain": "0.135905121983278",
      "text/latex": "$\\displaystyle 0.135905121983278$"
     },
     "execution_count": 36,
     "metadata": {},
     "output_type": "execute_result"
    }
   ],
   "source": [
    "from sympy import Symbol, exp, sqrt, pi, Integral\n",
    "x = Symbol('x')\n",
    "p = exp(-(x - 10)**2/2)/sqrt(2*pi)\n",
    "Integral(p, (x, 11, 12)).doit().evalf()"
   ],
   "metadata": {
    "collapsed": false,
    "pycharm": {
     "name": "#%%\n"
    }
   }
  },
  {
   "cell_type": "code",
   "execution_count": 37,
   "outputs": [
    {
     "data": {
      "text/plain": "1.00000000000000",
      "text/latex": "$\\displaystyle 1.0$"
     },
     "execution_count": 37,
     "metadata": {},
     "output_type": "execute_result"
    }
   ],
   "source": [
    "from sympy import Symbol, exp, sqrt, pi, Integral, S\n",
    "x = Symbol('x')\n",
    "p = exp(-(x - 10)**2/2)/sqrt(2*pi)\n",
    "Integral(p, (x, S.NegativeInfinity, S.Infinity)).doit().evalf()"
   ],
   "metadata": {
    "collapsed": false,
    "pycharm": {
     "name": "#%%\n"
    }
   }
  },
  {
   "cell_type": "code",
   "execution_count": null,
   "outputs": [],
   "source": [
    "\n"
   ],
   "metadata": {
    "collapsed": false,
    "pycharm": {
     "name": "#%%\n"
    }
   }
  }
 ],
 "metadata": {
  "kernelspec": {
   "display_name": "Python 3",
   "language": "python",
   "name": "python3"
  },
  "language_info": {
   "codemirror_mode": {
    "name": "ipython",
    "version": 2
   },
   "file_extension": ".py",
   "mimetype": "text/x-python",
   "name": "python",
   "nbconvert_exporter": "python",
   "pygments_lexer": "ipython2",
   "version": "2.7.6"
  }
 },
 "nbformat": 4,
 "nbformat_minor": 0
}