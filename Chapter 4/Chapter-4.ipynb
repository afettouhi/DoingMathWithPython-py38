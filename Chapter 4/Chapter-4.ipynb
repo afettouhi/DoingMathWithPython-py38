{
 "cells": [
  {
   "cell_type": "code",
   "execution_count": 1,
   "metadata": {
    "collapsed": true
   },
   "outputs": [
    {
     "data": {
      "text/plain": "3"
     },
     "execution_count": 1,
     "metadata": {},
     "output_type": "execute_result"
    }
   ],
   "source": [
    "x = 1\n",
    "x + x + 1"
   ]
  },
  {
   "cell_type": "code",
   "execution_count": 2,
   "outputs": [],
   "source": [
    "from sympy import Symbol\n",
    "x = Symbol('x')"
   ],
   "metadata": {
    "collapsed": false,
    "pycharm": {
     "name": "#%%\n"
    }
   }
  },
  {
   "cell_type": "code",
   "execution_count": 3,
   "outputs": [
    {
     "data": {
      "text/plain": "2*x + 1",
      "text/latex": "$\\displaystyle 2 x + 1$"
     },
     "execution_count": 3,
     "metadata": {},
     "output_type": "execute_result"
    }
   ],
   "source": [
    "from sympy import Symbol\n",
    "x = Symbol('x')\n",
    "x + x + 1"
   ],
   "metadata": {
    "collapsed": false,
    "pycharm": {
     "name": "#%%\n"
    }
   }
  },
  {
   "cell_type": "code",
   "execution_count": 4,
   "outputs": [
    {
     "data": {
      "text/plain": "2*x + 1",
      "text/latex": "$\\displaystyle 2 x + 1$"
     },
     "execution_count": 4,
     "metadata": {},
     "output_type": "execute_result"
    }
   ],
   "source": [
    "a = Symbol('x')\n",
    "a + a + 1"
   ],
   "metadata": {
    "collapsed": false,
    "pycharm": {
     "name": "#%%\n"
    }
   }
  },
  {
   "cell_type": "code",
   "execution_count": 5,
   "outputs": [
    {
     "data": {
      "text/plain": "'x'"
     },
     "execution_count": 5,
     "metadata": {},
     "output_type": "execute_result"
    }
   ],
   "source": [
    "x = Symbol('x')\n",
    "x.name"
   ],
   "metadata": {
    "collapsed": false,
    "pycharm": {
     "name": "#%%\n"
    }
   }
  },
  {
   "cell_type": "code",
   "execution_count": 6,
   "outputs": [
    {
     "data": {
      "text/plain": "'x'"
     },
     "execution_count": 6,
     "metadata": {},
     "output_type": "execute_result"
    }
   ],
   "source": [
    "a = Symbol('x')\n",
    "a.name"
   ],
   "metadata": {
    "collapsed": false,
    "pycharm": {
     "name": "#%%\n"
    }
   }
  },
  {
   "cell_type": "code",
   "execution_count": 7,
   "outputs": [],
   "source": [
    "x = Symbol('x')\n",
    "y = Symbol('y')\n",
    "z = Symbol('z')"
   ],
   "metadata": {
    "collapsed": false,
    "pycharm": {
     "name": "#%%\n"
    }
   }
  },
  {
   "cell_type": "code",
   "execution_count": 8,
   "outputs": [],
   "source": [
    "from sympy import symbols\n",
    "x,y,z = symbols('x,y,z')"
   ],
   "metadata": {
    "collapsed": false,
    "pycharm": {
     "name": "#%%\n"
    }
   }
  },
  {
   "cell_type": "code",
   "execution_count": 9,
   "outputs": [
    {
     "data": {
      "text/plain": "2*x*y",
      "text/latex": "$\\displaystyle 2 x y$"
     },
     "execution_count": 9,
     "metadata": {},
     "output_type": "execute_result"
    }
   ],
   "source": [
    "from sympy import Symbol\n",
    "x = Symbol('x')\n",
    "y = Symbol('y')\n",
    "\n",
    "s = x*y + x*y\n",
    "s"
   ],
   "metadata": {
    "collapsed": false,
    "pycharm": {
     "name": "#%%\n"
    }
   }
  },
  {
   "cell_type": "code",
   "execution_count": 10,
   "outputs": [
    {
     "data": {
      "text/plain": "2*x**2",
      "text/latex": "$\\displaystyle 2 x^{2}$"
     },
     "execution_count": 10,
     "metadata": {},
     "output_type": "execute_result"
    }
   ],
   "source": [
    "p = x*(x + x)\n",
    "p"
   ],
   "metadata": {
    "collapsed": false,
    "pycharm": {
     "name": "#%%\n"
    }
   }
  },
  {
   "cell_type": "code",
   "execution_count": 11,
   "outputs": [
    {
     "data": {
      "text/plain": "(x + 2)*(x + 3)",
      "text/latex": "$\\displaystyle \\left(x + 2\\right) \\left(x + 3\\right)$"
     },
     "execution_count": 11,
     "metadata": {},
     "output_type": "execute_result"
    }
   ],
   "source": [
    "p = (x + 2)*(x + 3)\n",
    "p"
   ],
   "metadata": {
    "collapsed": false,
    "pycharm": {
     "name": "#%%\n"
    }
   }
  },
  {
   "cell_type": "code",
   "execution_count": 12,
   "outputs": [],
   "source": [
    "from sympy import Symbol\n",
    "x = Symbol('x')\n",
    "y = Symbol('y')"
   ],
   "metadata": {
    "collapsed": false,
    "pycharm": {
     "name": "#%%\n"
    }
   }
  },
  {
   "cell_type": "code",
   "execution_count": 13,
   "outputs": [
    {
     "data": {
      "text/plain": "(x - y)*(x + y)",
      "text/latex": "$\\displaystyle \\left(x - y\\right) \\left(x + y\\right)$"
     },
     "execution_count": 13,
     "metadata": {},
     "output_type": "execute_result"
    }
   ],
   "source": [
    "from sympy import factor\n",
    "expr = x**2 - y**2\n",
    "factor(expr)"
   ],
   "metadata": {
    "collapsed": false,
    "pycharm": {
     "name": "#%%\n"
    }
   }
  },
  {
   "cell_type": "code",
   "execution_count": 15,
   "outputs": [
    {
     "data": {
      "text/plain": "x**2 - y**2",
      "text/latex": "$\\displaystyle x^{2} - y^{2}$"
     },
     "execution_count": 15,
     "metadata": {},
     "output_type": "execute_result"
    }
   ],
   "source": [
    "from sympy import expand\n",
    "factors = factor(expr)\n",
    "expand(factors)"
   ],
   "metadata": {
    "collapsed": false,
    "pycharm": {
     "name": "#%%\n"
    }
   }
  },
  {
   "cell_type": "code",
   "execution_count": 16,
   "outputs": [
    {
     "data": {
      "text/plain": "(x + y)**3",
      "text/latex": "$\\displaystyle \\left(x + y\\right)^{3}$"
     },
     "execution_count": 16,
     "metadata": {},
     "output_type": "execute_result"
    }
   ],
   "source": [
    "expr = x**3 + 3*x**2*y + 3*x*y**2 + y**3\n",
    "factors = factor(expr)\n",
    "factors"
   ],
   "metadata": {
    "collapsed": false,
    "pycharm": {
     "name": "#%%\n"
    }
   }
  },
  {
   "cell_type": "code",
   "execution_count": 17,
   "outputs": [
    {
     "data": {
      "text/plain": "x**3 + 3*x**2*y + 3*x*y**2 + y**3",
      "text/latex": "$\\displaystyle x^{3} + 3 x^{2} y + 3 x y^{2} + y^{3}$"
     },
     "execution_count": 17,
     "metadata": {},
     "output_type": "execute_result"
    }
   ],
   "source": [
    "expand(factors)"
   ],
   "metadata": {
    "collapsed": false,
    "pycharm": {
     "name": "#%%\n"
    }
   }
  },
  {
   "cell_type": "code",
   "execution_count": 18,
   "outputs": [
    {
     "data": {
      "text/plain": "x*y + x + y",
      "text/latex": "$\\displaystyle x y + x + y$"
     },
     "execution_count": 18,
     "metadata": {},
     "output_type": "execute_result"
    }
   ],
   "source": [
    "expr = x + y + x*y\n",
    "factor(expr)"
   ],
   "metadata": {
    "collapsed": false,
    "pycharm": {
     "name": "#%%\n"
    }
   }
  },
  {
   "cell_type": "code",
   "execution_count": 19,
   "outputs": [],
   "source": [
    "expr = x*x + 2*x*y + y*y"
   ],
   "metadata": {
    "collapsed": false,
    "pycharm": {
     "name": "#%%\n"
    }
   }
  },
  {
   "cell_type": "code",
   "execution_count": 20,
   "outputs": [
    {
     "data": {
      "text/plain": "x**2 + 2*x*y + y**2",
      "text/latex": "$\\displaystyle x^{2} + 2 x y + y^{2}$"
     },
     "execution_count": 20,
     "metadata": {},
     "output_type": "execute_result"
    }
   ],
   "source": [
    "expr"
   ],
   "metadata": {
    "collapsed": false,
    "pycharm": {
     "name": "#%%\n"
    }
   }
  },
  {
   "cell_type": "code",
   "execution_count": 21,
   "outputs": [
    {
     "name": "stdout",
     "output_type": "stream",
     "text": [
      " 2            2\n",
      "x  + 2⋅x⋅y + y \n"
     ]
    }
   ],
   "source": [
    "from sympy import pprint\n",
    "pprint(expr)"
   ],
   "metadata": {
    "collapsed": false,
    "pycharm": {
     "name": "#%%\n"
    }
   }
  },
  {
   "cell_type": "code",
   "execution_count": 22,
   "outputs": [
    {
     "name": "stdout",
     "output_type": "stream",
     "text": [
      "   2          \n",
      "2⋅x  + 2⋅x + 1\n"
     ]
    }
   ],
   "source": [
    "expr = 1 + 2*x + 2*x**2\n",
    "pprint(expr)"
   ],
   "metadata": {
    "collapsed": false,
    "pycharm": {
     "name": "#%%\n"
    }
   }
  },
  {
   "cell_type": "code",
   "execution_count": 23,
   "outputs": [
    {
     "name": "stdout",
     "output_type": "stream",
     "text": [
      "   2          \n",
      "2⋅x  + 2⋅x + 1\n"
     ]
    }
   ],
   "source": [
    "from sympy import init_printing\n",
    "init_printing(order='rev-lex')\n",
    "pprint(expr)"
   ],
   "metadata": {
    "collapsed": false,
    "pycharm": {
     "name": "#%%\n"
    }
   }
  },
  {
   "cell_type": "code",
   "execution_count": 24,
   "outputs": [
    {
     "name": "stdout",
     "output_type": "stream",
     "text": [
      " 3    2    \n",
      "x    x     \n",
      "── + ── + x\n",
      "3    2     \n"
     ]
    }
   ],
   "source": [
    "\"\"\"\n",
    "Print the series:\n",
    "x + x**2 + x**3 + ... + x**n\n",
    "    ____  _____         _____\n",
    "      2    3              n\n",
    "\"\"\"\n",
    "\n",
    "from sympy import Symbol, pprint, init_printing\n",
    "def print_series(n):\n",
    "\n",
    "    # Initialize printing system with reverse order\n",
    "    init_printing(order='rev-lex')\n",
    "\n",
    "    x = Symbol('x')\n",
    "    series = x\n",
    "    for i in range(2, n+1):\n",
    "        series = series + (x**i)/i\n",
    "    pprint(series)\n",
    "\n",
    "if __name__ == '__main__':\n",
    "    n = input('Enter the number of terms you want in the series: ')\n",
    "    print_series(int(n))"
   ],
   "metadata": {
    "collapsed": false,
    "pycharm": {
     "name": "#%%\n"
    }
   }
  },
  {
   "cell_type": "code",
   "execution_count": 25,
   "outputs": [
    {
     "data": {
      "text/plain": " 2            2\ny  + 2⋅x⋅y + x ",
      "image/png": "[encoded data removed]",
      "text/latex": "$\\displaystyle x^{2} + 2 x y + y^{2}$"
     },
     "execution_count": 25,
     "metadata": {},
     "output_type": "execute_result"
    }
   ],
   "source": [
    "x = Symbol('x')\n",
    "y = Symbol('y')\n",
    "x*x + x*y + x*y + y*y"
   ],
   "metadata": {
    "collapsed": false,
    "pycharm": {
     "name": "#%%\n"
    }
   }
  },
  {
   "cell_type": "code",
   "execution_count": 26,
   "outputs": [],
   "source": [
    "expr = x*x + x*y + x*y + y*y\n",
    "res = expr.subs({x:1, y:2})"
   ],
   "metadata": {
    "collapsed": false,
    "pycharm": {
     "name": "#%%\n"
    }
   }
  },
  {
   "cell_type": "code",
   "execution_count": 27,
   "outputs": [
    {
     "data": {
      "text/plain": "9",
      "image/png": "[encoded data removed]",
      "text/latex": "$\\displaystyle 9$"
     },
     "execution_count": 27,
     "metadata": {},
     "output_type": "execute_result"
    }
   ],
   "source": [
    "res"
   ],
   "metadata": {
    "collapsed": false,
    "pycharm": {
     "name": "#%%\n"
    }
   }
  },
  {
   "cell_type": "code",
   "execution_count": 28,
   "outputs": [
    {
     "data": {
      "text/plain": "       2                  2\n(1 - y)  + 2⋅y⋅(1 - y) + y ",
      "image/png": "[encoded data removed]",
      "text/latex": "$\\displaystyle y^{2} + 2 y \\left(1 - y\\right) + \\left(1 - y\\right)^{2}$"
     },
     "execution_count": 28,
     "metadata": {},
     "output_type": "execute_result"
    }
   ],
   "source": [
    "expr.subs({x:1-y})"
   ],
   "metadata": {
    "collapsed": false,
    "pycharm": {
     "name": "#%%\n"
    }
   }
  },
  {
   "cell_type": "code",
   "execution_count": 29,
   "outputs": [
    {
     "data": {
      "text/plain": "5",
      "image/png": "[encoded data removed]",
      "text/latex": "$\\displaystyle 5$"
     },
     "execution_count": 29,
     "metadata": {},
     "output_type": "execute_result"
    }
   ],
   "source": [
    "sampledict = {\"key1\": 5, \"key2\": 20}\n",
    "sampledict[\"key1\"]"
   ],
   "metadata": {
    "collapsed": false,
    "pycharm": {
     "name": "#%%\n"
    }
   }
  },
  {
   "cell_type": "code",
   "execution_count": 30,
   "outputs": [
    {
     "data": {
      "text/plain": "1",
      "image/png": "[encoded data removed]",
      "text/latex": "$\\displaystyle 1$"
     },
     "execution_count": 30,
     "metadata": {},
     "output_type": "execute_result"
    }
   ],
   "source": [
    "expr_subs = expr.subs({x:1-y})\n",
    "from sympy import simplify\n",
    "simplify(expr_subs)"
   ],
   "metadata": {
    "collapsed": false,
    "pycharm": {
     "name": "#%%\n"
    }
   }
  },
  {
   "cell_type": "code",
   "execution_count": 31,
   "outputs": [
    {
     "name": "stdout",
     "output_type": "stream",
     "text": [
      " 5    4    3    2    \n",
      "x    x    x    x     \n",
      "── + ── + ── + ── + x\n",
      "5    4    3    2     \n",
      "Value of the series at 5.0: 840.416666666667\n"
     ]
    }
   ],
   "source": [
    "\"\"\"\n",
    "Print the series:\n",
    "x + x**2 + x**3 + ... + x**n\n",
    "    ____  _____         _____\n",
    "      2     3             n\n",
    "\"\"\"\n",
    "\n",
    "from sympy import Symbol, pprint, init_printing\n",
    "def print_series(n, x_value):\n",
    "\n",
    "    # Initialize printing system with reverse order\n",
    "    init_printing(order='rev-lex')\n",
    "\n",
    "    x = Symbol('x')\n",
    "    series = x\n",
    "    for i in range(2, n+1):\n",
    "        series = series + (x**i)/i\n",
    "\n",
    "    pprint(series)\n",
    "\n",
    "    # Evaluate the series at x_value\n",
    "    series_value = series.subs({x:x_value})\n",
    "    print('Value of the series at {0}: {1}'.format(x_value, series_value))\n",
    "\n",
    "if __name__ == '__main__':\n",
    "    n = input('Enter the number of terms you want in the series: ')\n",
    "    x_value = input('Enter the value of x at which you want to evaluate the series: ')\n",
    "\n",
    "    print_series(int(n), float(x_value))"
   ],
   "metadata": {
    "collapsed": false,
    "pycharm": {
     "name": "#%%\n"
    }
   }
  },
  {
   "cell_type": "code",
   "execution_count": 32,
   "outputs": [],
   "source": [
    "from sympy import sympify\n",
    "expr = input('Enter a mathematical expression: ')"
   ],
   "metadata": {
    "collapsed": false,
    "pycharm": {
     "name": "#%%\n"
    }
   }
  },
  {
   "cell_type": "code",
   "execution_count": 33,
   "outputs": [],
   "source": [
    "expr = sympify(expr)"
   ],
   "metadata": {
    "collapsed": false,
    "pycharm": {
     "name": "#%%\n"
    }
   }
  },
  {
   "cell_type": "code",
   "execution_count": 34,
   "outputs": [
    {
     "data": {
      "text/plain": "          2      3\n10⋅x + 2⋅x  + 2⋅x ",
      "image/png": "[encoded data removed]",
      "text/latex": "$\\displaystyle 2 x^{3} + 2 x^{2} + 10 x$"
     },
     "execution_count": 34,
     "metadata": {},
     "output_type": "execute_result"
    }
   ],
   "source": [
    "2*expr"
   ],
   "metadata": {
    "collapsed": false,
    "pycharm": {
     "name": "#%%\n"
    }
   }
  },
  {
   "cell_type": "code",
   "execution_count": 35,
   "outputs": [],
   "source": [
    "expr = input('Enter a mathematical expression: ')"
   ],
   "metadata": {
    "collapsed": false,
    "pycharm": {
     "name": "#%%\n"
    }
   }
  },
  {
   "cell_type": "code",
   "execution_count": 36,
   "outputs": [
    {
     "ename": "SympifyError",
     "evalue": "Sympify of expression 'could not parse 'x**2 + 3*x + x**3 + 2x'' failed, because of exception being raised:\nSyntaxError: invalid syntax (<string>, line 1)",
     "output_type": "error",
     "traceback": [
      "\u001B[0;31m---------------------------------------------------------------------------\u001B[0m",
      "\u001B[0;31mSyntaxError\u001B[0m                               Traceback (most recent call last)",
      "\u001B[0;32m~/Dokumenter/Programs/miniconda3/envs/DoingMathWithPython-py38/lib/python3.8/site-packages/sympy/core/sympify.py\u001B[0m in \u001B[0;36msympify\u001B[0;34m(a, locals, convert_xor, strict, rational, evaluate)\u001B[0m\n\u001B[1;32m    384\u001B[0m         \u001B[0ma\u001B[0m \u001B[0;34m=\u001B[0m \u001B[0ma\u001B[0m\u001B[0;34m.\u001B[0m\u001B[0mreplace\u001B[0m\u001B[0;34m(\u001B[0m\u001B[0;34m'\\n'\u001B[0m\u001B[0;34m,\u001B[0m \u001B[0;34m''\u001B[0m\u001B[0;34m)\u001B[0m\u001B[0;34m\u001B[0m\u001B[0;34m\u001B[0m\u001B[0m\n\u001B[0;32m--> 385\u001B[0;31m         \u001B[0mexpr\u001B[0m \u001B[0;34m=\u001B[0m \u001B[0mparse_expr\u001B[0m\u001B[0;34m(\u001B[0m\u001B[0ma\u001B[0m\u001B[0;34m,\u001B[0m \u001B[0mlocal_dict\u001B[0m\u001B[0;34m=\u001B[0m\u001B[0mlocals\u001B[0m\u001B[0;34m,\u001B[0m \u001B[0mtransformations\u001B[0m\u001B[0;34m=\u001B[0m\u001B[0mtransformations\u001B[0m\u001B[0;34m,\u001B[0m \u001B[0mevaluate\u001B[0m\u001B[0;34m=\u001B[0m\u001B[0mevaluate\u001B[0m\u001B[0;34m)\u001B[0m\u001B[0;34m\u001B[0m\u001B[0;34m\u001B[0m\u001B[0m\n\u001B[0m\u001B[1;32m    386\u001B[0m     \u001B[0;32mexcept\u001B[0m \u001B[0;34m(\u001B[0m\u001B[0mTokenError\u001B[0m\u001B[0;34m,\u001B[0m \u001B[0mSyntaxError\u001B[0m\u001B[0;34m)\u001B[0m \u001B[0;32mas\u001B[0m \u001B[0mexc\u001B[0m\u001B[0;34m:\u001B[0m\u001B[0;34m\u001B[0m\u001B[0;34m\u001B[0m\u001B[0m\n",
      "\u001B[0;32m~/Dokumenter/Programs/miniconda3/envs/DoingMathWithPython-py38/lib/python3.8/site-packages/sympy/parsing/sympy_parser.py\u001B[0m in \u001B[0;36mparse_expr\u001B[0;34m(s, local_dict, transformations, global_dict, evaluate)\u001B[0m\n\u001B[1;32m   1007\u001B[0m \u001B[0;34m\u001B[0m\u001B[0m\n\u001B[0;32m-> 1008\u001B[0;31m     \u001B[0;32mreturn\u001B[0m \u001B[0meval_expr\u001B[0m\u001B[0;34m(\u001B[0m\u001B[0mcode\u001B[0m\u001B[0;34m,\u001B[0m \u001B[0mlocal_dict\u001B[0m\u001B[0;34m,\u001B[0m \u001B[0mglobal_dict\u001B[0m\u001B[0;34m)\u001B[0m\u001B[0;34m\u001B[0m\u001B[0;34m\u001B[0m\u001B[0m\n\u001B[0m\u001B[1;32m   1009\u001B[0m \u001B[0;34m\u001B[0m\u001B[0m\n",
      "\u001B[0;32m~/Dokumenter/Programs/miniconda3/envs/DoingMathWithPython-py38/lib/python3.8/site-packages/sympy/parsing/sympy_parser.py\u001B[0m in \u001B[0;36meval_expr\u001B[0;34m(code, local_dict, global_dict)\u001B[0m\n\u001B[1;32m    901\u001B[0m     \"\"\"\n\u001B[0;32m--> 902\u001B[0;31m     expr = eval(\n\u001B[0m\u001B[1;32m    903\u001B[0m         code, global_dict, local_dict)  # take local objects in preference\n",
      "\u001B[0;31mSyntaxError\u001B[0m: invalid syntax (<string>, line 1)",
      "\nDuring handling of the above exception, another exception occurred:\n",
      "\u001B[0;31mSympifyError\u001B[0m                              Traceback (most recent call last)",
      "\u001B[0;32m<ipython-input-36-8a971abe4be3>\u001B[0m in \u001B[0;36m<module>\u001B[0;34m\u001B[0m\n\u001B[0;32m----> 1\u001B[0;31m \u001B[0mexpr\u001B[0m \u001B[0;34m=\u001B[0m \u001B[0msympify\u001B[0m\u001B[0;34m(\u001B[0m\u001B[0mexpr\u001B[0m\u001B[0;34m)\u001B[0m\u001B[0;34m\u001B[0m\u001B[0;34m\u001B[0m\u001B[0m\n\u001B[0m\u001B[1;32m      2\u001B[0m \u001B[0;34m\u001B[0m\u001B[0m\n",
      "\u001B[0;32m~/Dokumenter/Programs/miniconda3/envs/DoingMathWithPython-py38/lib/python3.8/site-packages/sympy/core/sympify.py\u001B[0m in \u001B[0;36msympify\u001B[0;34m(a, locals, convert_xor, strict, rational, evaluate)\u001B[0m\n\u001B[1;32m    385\u001B[0m         \u001B[0mexpr\u001B[0m \u001B[0;34m=\u001B[0m \u001B[0mparse_expr\u001B[0m\u001B[0;34m(\u001B[0m\u001B[0ma\u001B[0m\u001B[0;34m,\u001B[0m \u001B[0mlocal_dict\u001B[0m\u001B[0;34m=\u001B[0m\u001B[0mlocals\u001B[0m\u001B[0;34m,\u001B[0m \u001B[0mtransformations\u001B[0m\u001B[0;34m=\u001B[0m\u001B[0mtransformations\u001B[0m\u001B[0;34m,\u001B[0m \u001B[0mevaluate\u001B[0m\u001B[0;34m=\u001B[0m\u001B[0mevaluate\u001B[0m\u001B[0;34m)\u001B[0m\u001B[0;34m\u001B[0m\u001B[0;34m\u001B[0m\u001B[0m\n\u001B[1;32m    386\u001B[0m     \u001B[0;32mexcept\u001B[0m \u001B[0;34m(\u001B[0m\u001B[0mTokenError\u001B[0m\u001B[0;34m,\u001B[0m \u001B[0mSyntaxError\u001B[0m\u001B[0;34m)\u001B[0m \u001B[0;32mas\u001B[0m \u001B[0mexc\u001B[0m\u001B[0;34m:\u001B[0m\u001B[0;34m\u001B[0m\u001B[0;34m\u001B[0m\u001B[0m\n\u001B[0;32m--> 387\u001B[0;31m         \u001B[0;32mraise\u001B[0m \u001B[0mSympifyError\u001B[0m\u001B[0;34m(\u001B[0m\u001B[0;34m'could not parse %r'\u001B[0m \u001B[0;34m%\u001B[0m \u001B[0ma\u001B[0m\u001B[0;34m,\u001B[0m \u001B[0mexc\u001B[0m\u001B[0;34m)\u001B[0m\u001B[0;34m\u001B[0m\u001B[0;34m\u001B[0m\u001B[0m\n\u001B[0m\u001B[1;32m    388\u001B[0m \u001B[0;34m\u001B[0m\u001B[0m\n\u001B[1;32m    389\u001B[0m     \u001B[0;32mreturn\u001B[0m \u001B[0mexpr\u001B[0m\u001B[0;34m\u001B[0m\u001B[0;34m\u001B[0m\u001B[0m\n",
      "\u001B[0;31mSympifyError\u001B[0m: Sympify of expression 'could not parse 'x**2 + 3*x + x**3 + 2x'' failed, because of exception being raised:\nSyntaxError: invalid syntax (<string>, line 1)"
     ]
    }
   ],
   "source": [
    "expr = sympify(expr)"
   ],
   "metadata": {
    "collapsed": false,
    "pycharm": {
     "name": "#%%\n"
    }
   }
  },
  {
   "cell_type": "code",
   "execution_count": 37,
   "outputs": [],
   "source": [
    "from sympy import sympify\n",
    "from sympy.core.sympify import SympifyError\n",
    "expr = input('Enter a mathematical expression: ')"
   ],
   "metadata": {
    "collapsed": false,
    "pycharm": {
     "name": "#%%\n"
    }
   }
  },
  {
   "cell_type": "code",
   "execution_count": 38,
   "outputs": [
    {
     "name": "stdout",
     "output_type": "stream",
     "text": [
      "Invalid input\n"
     ]
    }
   ],
   "source": [
    "try:\n",
    "    expr = sympify(expr)\n",
    "except SympifyError:\n",
    "    print('Invalid input')"
   ],
   "metadata": {
    "collapsed": false,
    "pycharm": {
     "name": "#%%\n"
    }
   }
  },
  {
   "cell_type": "code",
   "execution_count": 39,
   "outputs": [
    {
     "name": "stdout",
     "output_type": "stream",
     "text": [
      "x**5 + 3*x**4 + 4*x**3 + 12*x**2\n"
     ]
    }
   ],
   "source": [
    "\"\"\"\n",
    "Product of two expressions\n",
    "\"\"\"\n",
    "\n",
    "from sympy import expand, sympify\n",
    "from sympy.core.sympify import SympifyError\n",
    "\n",
    "def product(expr1, expr2):\n",
    "    prod = expand(expr1*expr2)\n",
    "    print(prod)\n",
    "\n",
    "if __name__=='__main__':\n",
    "    expr1 = input('Enter the first expression: ')\n",
    "    expr2 = input('Enter the second expression: ')\n",
    "\n",
    "    try:\n",
    "        expr1 = sympify(expr1)\n",
    "        expr2 = sympify(expr2)\n",
    "    except SympifyError:\n",
    "        print('Invalid input')\n",
    "    else:\n",
    "        product(expr1, expr2)"
   ],
   "metadata": {
    "collapsed": false,
    "pycharm": {
     "name": "#%%\n"
    }
   }
  },
  {
   "cell_type": "code",
   "execution_count": 40,
   "outputs": [
    {
     "data": {
      "text/plain": "[12]",
      "image/png": "[encoded data removed]",
      "text/latex": "$\\displaystyle \\left[ 12\\right]$"
     },
     "execution_count": 40,
     "metadata": {},
     "output_type": "execute_result"
    }
   ],
   "source": [
    "from sympy import Symbol, solve\n",
    "x = Symbol('x')\n",
    "expr = x - 5 - 7\n",
    "solve(expr)"
   ],
   "metadata": {
    "collapsed": false,
    "pycharm": {
     "name": "#%%\n"
    }
   }
  },
  {
   "cell_type": "code",
   "execution_count": 41,
   "outputs": [
    {
     "data": {
      "text/plain": "[{x: -4}, {x: -1}]",
      "image/png": "[encoded data removed]",
      "text/latex": "$\\displaystyle \\left[ \\left\\{ x : -4\\right\\}, \\  \\left\\{ x : -1\\right\\}\\right]$"
     },
     "execution_count": 41,
     "metadata": {},
     "output_type": "execute_result"
    }
   ],
   "source": [
    "from sympy import solve\n",
    "x = Symbol('x')\n",
    "expr = x**2 + 5*x + 4\n",
    "solve(expr, dict=True)"
   ],
   "metadata": {
    "collapsed": false,
    "pycharm": {
     "name": "#%%\n"
    }
   }
  },
  {
   "cell_type": "code",
   "execution_count": 42,
   "outputs": [
    {
     "data": {
      "text/plain": "⎡⎧     √3⋅ⅈ   1⎫  ⎧   √3⋅ⅈ   1⎫⎤\n⎢⎨x: - ──── - ─⎬, ⎨x: ──── - ─⎬⎥\n⎣⎩      2     2⎭  ⎩    2     2⎭⎦",
      "image/png": "[encoded data removed]",
      "text/latex": "$\\displaystyle \\left[ \\left\\{ x : - \\frac{1}{2} - \\frac{\\sqrt{3} i}{2}\\right\\}, \\  \\left\\{ x : - \\frac{1}{2} + \\frac{\\sqrt{3} i}{2}\\right\\}\\right]$"
     },
     "execution_count": 42,
     "metadata": {},
     "output_type": "execute_result"
    }
   ],
   "source": [
    "x=Symbol('x')\n",
    "expr = x**2 + x + 1\n",
    "solve(expr, dict=True)"
   ],
   "metadata": {
    "collapsed": false,
    "pycharm": {
     "name": "#%%\n"
    }
   }
  },
  {
   "cell_type": "code",
   "execution_count": 43,
   "outputs": [],
   "source": [
    "x = Symbol('x')\n",
    "a = Symbol('a')\n",
    "b = Symbol('b')\n",
    "c = Symbol('c')"
   ],
   "metadata": {
    "collapsed": false,
    "pycharm": {
     "name": "#%%\n"
    }
   }
  },
  {
   "cell_type": "code",
   "execution_count": 44,
   "outputs": [
    {
     "data": {
      "text/plain": "⎡⎧      ____________    ⎫  ⎧    ⎛   ____________    ⎞ ⎫⎤\n⎢⎪     ╱  2             ⎪  ⎪    ⎜  ╱  2             ⎟ ⎪⎥\n⎢⎨   ╲╱  b  - 4⋅a⋅c  - b⎬  ⎨   -⎝╲╱  b  - 4⋅a⋅c  + b⎠ ⎬⎥\n⎢⎪x: ───────────────────⎪, ⎪x: ───────────────────────⎪⎥\n⎣⎩           2⋅a        ⎭  ⎩             2⋅a          ⎭⎦",
      "image/png": "[encoded data removed]",
      "text/latex": "$\\displaystyle \\left[ \\left\\{ x : \\frac{- b + \\sqrt{- 4 a c + b^{2}}}{2 a}\\right\\}, \\  \\left\\{ x : - \\frac{b + \\sqrt{- 4 a c + b^{2}}}{2 a}\\right\\}\\right]$"
     },
     "execution_count": 44,
     "metadata": {},
     "output_type": "execute_result"
    }
   ],
   "source": [
    "expr = a*x*x + b*x + c\n",
    "solve(expr, x, dict=True)"
   ],
   "metadata": {
    "collapsed": false,
    "pycharm": {
     "name": "#%%\n"
    }
   }
  },
  {
   "cell_type": "code",
   "execution_count": 45,
   "outputs": [
    {
     "name": "stdout",
     "output_type": "stream",
     "text": [
      "⎡⎧                           ______________⎫  ⎧    ⎛                       ___\n",
      "⎢⎪                          ╱            2 ⎪  ⎪    ⎜                      ╱   \n",
      "⎢⎨   -u + 1.4142135623731⋅╲╱  a⋅s + 0.5⋅u  ⎬  ⎨   -⎝u + 1.4142135623731⋅╲╱  a⋅\n",
      "⎢⎪t: ──────────────────────────────────────⎪, ⎪t: ────────────────────────────\n",
      "⎣⎩                     a                   ⎭  ⎩                       a       \n",
      "\n",
      "___________⎞ ⎫⎤\n",
      "         2 ⎟ ⎪⎥\n",
      "s + 0.5⋅u  ⎠ ⎬⎥\n",
      "─────────────⎪⎥\n",
      "             ⎭⎦\n"
     ]
    }
   ],
   "source": [
    "from sympy import Symbol, solve, pprint\n",
    "s = Symbol('s')\n",
    "u = Symbol('u')\n",
    "t = Symbol('t')\n",
    "a = Symbol('a')\n",
    "expr = u*t + (1/2)*a*t*t - s\n",
    "t_expr = solve(expr,t, dict=True)\n",
    "pprint(t_expr)"
   ],
   "metadata": {
    "collapsed": false,
    "pycharm": {
     "name": "#%%\n"
    }
   }
  },
  {
   "cell_type": "code",
   "execution_count": 46,
   "outputs": [],
   "source": [
    "x = Symbol('x')\n",
    "y = Symbol('y')\n",
    "expr1 = 2*x + 3*y - 6\n",
    "expr2 = 3*x + 2*y - 12"
   ],
   "metadata": {
    "collapsed": false,
    "pycharm": {
     "name": "#%%\n"
    }
   }
  },
  {
   "cell_type": "code",
   "execution_count": 47,
   "outputs": [
    {
     "data": {
      "text/plain": "[{x: 24/5, y: -6/5}]",
      "image/png": "[encoded data removed]",
      "text/latex": "$\\displaystyle \\left[ \\left\\{ x : \\frac{24}{5}, \\  y : - \\frac{6}{5}\\right\\}\\right]$"
     },
     "execution_count": 47,
     "metadata": {},
     "output_type": "execute_result"
    }
   ],
   "source": [
    "solve((expr1, expr2), dict=True)"
   ],
   "metadata": {
    "collapsed": false,
    "pycharm": {
     "name": "#%%\n"
    }
   }
  },
  {
   "cell_type": "code",
   "execution_count": 48,
   "outputs": [
    {
     "data": {
      "text/plain": "0",
      "image/png": "[encoded data removed]",
      "text/latex": "$\\displaystyle 0$"
     },
     "execution_count": 48,
     "metadata": {},
     "output_type": "execute_result"
    }
   ],
   "source": [
    "soln = solve((expr1, expr2), dict=True)\n",
    "soln = soln[0]\n",
    "expr1.subs({x:soln[x], y:soln[y]})"
   ],
   "metadata": {
    "collapsed": false,
    "pycharm": {
     "name": "#%%\n"
    }
   }
  },
  {
   "cell_type": "code",
   "execution_count": 49,
   "outputs": [
    {
     "data": {
      "text/plain": "0",
      "image/png": "[encoded data removed]",
      "text/latex": "$\\displaystyle 0$"
     },
     "execution_count": 49,
     "metadata": {},
     "output_type": "execute_result"
    }
   ],
   "source": [
    "expr2.subs({x:soln[x], y:soln[y]})"
   ],
   "metadata": {
    "collapsed": false,
    "pycharm": {
     "name": "#%%\n"
    }
   }
  },
  {
   "cell_type": "code",
   "execution_count": 50,
   "outputs": [
    {
     "data": {
      "text/plain": "<Figure size 432x288 with 1 Axes>",
      "image/png": "[encoded data removed]"
     },
     "metadata": {
      "needs_background": "light"
     },
     "output_type": "display_data"
    },
    {
     "data": {
      "text/plain": "<sympy.plotting.plot.Plot at 0x7f5cd22d3c70>"
     },
     "execution_count": 50,
     "metadata": {},
     "output_type": "execute_result"
    }
   ],
   "source": [
    "from sympy.plotting import plot\n",
    "from sympy import Symbol\n",
    "x = Symbol('x')\n",
    "plot(2*x+3)"
   ],
   "metadata": {
    "collapsed": false,
    "pycharm": {
     "name": "#%%\n"
    }
   }
  },
  {
   "cell_type": "code",
   "execution_count": 51,
   "outputs": [
    {
     "data": {
      "text/plain": "<Figure size 432x288 with 1 Axes>",
      "image/png": "[encoded data removed]"
     },
     "metadata": {
      "needs_background": "light"
     },
     "output_type": "display_data"
    },
    {
     "data": {
      "text/plain": "<sympy.plotting.plot.Plot at 0x7f5cbe93c250>"
     },
     "execution_count": 51,
     "metadata": {},
     "output_type": "execute_result"
    }
   ],
   "source": [
    "plot((2*x + 3), (x, -5, 5))"
   ],
   "metadata": {
    "collapsed": false,
    "pycharm": {
     "name": "#%%\n"
    }
   }
  },
  {
   "cell_type": "code",
   "execution_count": 52,
   "outputs": [
    {
     "data": {
      "text/plain": "<Figure size 432x288 with 1 Axes>",
      "image/png": "[encoded data removed]"
     },
     "metadata": {
      "needs_background": "light"
     },
     "output_type": "display_data"
    },
    {
     "data": {
      "text/plain": "<sympy.plotting.plot.Plot at 0x7f5cbe86edf0>"
     },
     "execution_count": 52,
     "metadata": {},
     "output_type": "execute_result"
    }
   ],
   "source": [
    "plot(2*x + 3, (x, -5, 5), title='A Line', xlabel='x', ylabel='2x+3')"
   ],
   "metadata": {
    "collapsed": false,
    "pycharm": {
     "name": "#%%\n"
    }
   }
  },
  {
   "cell_type": "code",
   "execution_count": 53,
   "outputs": [],
   "source": [
    "p = plot(2*x + 3, (x, -5, 5), title='A Line', xlabel='x', ylabel='2x+3', show=False)"
   ],
   "metadata": {
    "collapsed": false,
    "pycharm": {
     "name": "#%%\n"
    }
   }
  },
  {
   "cell_type": "code",
   "execution_count": 54,
   "outputs": [
    {
     "data": {
      "text/plain": "<Figure size 432x288 with 1 Axes>",
      "image/png": "[encoded data removed]"
     },
     "metadata": {
      "needs_background": "light"
     },
     "output_type": "display_data"
    }
   ],
   "source": [
    "p.save('line.png')"
   ],
   "metadata": {
    "collapsed": false,
    "pycharm": {
     "name": "#%%\n"
    }
   }
  },
  {
   "cell_type": "code",
   "execution_count": 55,
   "outputs": [],
   "source": [
    "expr = input('Enter an expression: ')"
   ],
   "metadata": {
    "collapsed": false,
    "pycharm": {
     "name": "#%%\n"
    }
   }
  },
  {
   "cell_type": "code",
   "execution_count": 56,
   "outputs": [
    {
     "data": {
      "text/plain": "⎡    2⋅x⎤\n⎢2 - ───⎥\n⎣     3 ⎦",
      "image/png": "[encoded data removed]",
      "text/latex": "$\\displaystyle \\left[ 2 - \\frac{2 x}{3}\\right]$"
     },
     "execution_count": 56,
     "metadata": {},
     "output_type": "execute_result"
    }
   ],
   "source": [
    "expr = sympify(expr)\n",
    "y = Symbol('y')\n",
    "solve(expr, y)"
   ],
   "metadata": {
    "collapsed": false,
    "pycharm": {
     "name": "#%%\n"
    }
   }
  },
  {
   "cell_type": "code",
   "execution_count": 57,
   "outputs": [
    {
     "data": {
      "text/plain": "    2⋅x\n2 - ───\n     3 ",
      "image/png": "[encoded data removed]",
      "text/latex": "$\\displaystyle 2 - \\frac{2 x}{3}$"
     },
     "execution_count": 57,
     "metadata": {},
     "output_type": "execute_result"
    }
   ],
   "source": [
    "solutions = solve(expr, 'y')\n",
    "expr_y = solutions[0]\n",
    "expr_y"
   ],
   "metadata": {
    "collapsed": false,
    "pycharm": {
     "name": "#%%\n"
    }
   }
  },
  {
   "cell_type": "code",
   "execution_count": 59,
   "outputs": [
    {
     "data": {
      "text/plain": "<Figure size 432x288 with 1 Axes>",
      "image/png": "[encoded data removed]"
     },
     "metadata": {
      "needs_background": "light"
     },
     "output_type": "display_data"
    }
   ],
   "source": [
    "\"\"\"\n",
    "Plot the graph of an input expression\n",
    "\"\"\"\n",
    "\n",
    "from sympy import Symbol, sympify, solve\n",
    "from sympy.plotting import plot\n",
    "\n",
    "def plot_expression(expr):\n",
    "\n",
    "    y = Symbol('y')\n",
    "    solutions = solve(expr, y)\n",
    "    expr_y = solutions[0]\n",
    "    plot(expr_y)\n",
    "\n",
    "if __name__=='__main__':\n",
    "\n",
    "    expr = input('Enter your expression in terms of x and y: ')\n",
    "\n",
    "    try:\n",
    "        expr = sympify(expr)\n",
    "    except SympifyError:\n",
    "        print('Invalid input')\n",
    "    else:\n",
    "        plot_expression(expr)"
   ],
   "metadata": {
    "collapsed": false,
    "pycharm": {
     "name": "#%%\n"
    }
   }
  },
  {
   "cell_type": "code",
   "execution_count": 60,
   "outputs": [
    {
     "data": {
      "text/plain": "<Figure size 432x288 with 1 Axes>",
      "image/png": "[encoded data removed]"
     },
     "metadata": {
      "needs_background": "light"
     },
     "output_type": "display_data"
    },
    {
     "data": {
      "text/plain": "<sympy.plotting.plot.Plot at 0x7f5cd22e7310>"
     },
     "execution_count": 60,
     "metadata": {},
     "output_type": "execute_result"
    }
   ],
   "source": [
    "from sympy.plotting import plot\n",
    "from sympy import Symbol\n",
    "x = Symbol('x')\n",
    "plot(2*x+3, 3*x+1)"
   ],
   "metadata": {
    "collapsed": false,
    "pycharm": {
     "name": "#%%\n"
    }
   }
  },
  {
   "cell_type": "code",
   "execution_count": 61,
   "outputs": [
    {
     "data": {
      "text/plain": "<Figure size 432x288 with 1 Axes>",
      "image/png": "[encoded data removed]"
     },
     "metadata": {
      "needs_background": "light"
     },
     "output_type": "display_data"
    }
   ],
   "source": [
    "from sympy.plotting import plot\n",
    "from sympy import Symbol\n",
    "x = Symbol('x')\n",
    "p = plot(2*x+3, 3*x+1, legend=True, show=False)\n",
    "p[0].line_color = 'b'\n",
    "p[1].line_color = 'r'\n",
    "p.show()"
   ],
   "metadata": {
    "collapsed": false,
    "pycharm": {
     "name": "#%%\n"
    }
   }
  },
  {
   "cell_type": "code",
   "execution_count": null,
   "outputs": [],
   "source": [
    "\n"
   ],
   "metadata": {
    "collapsed": false,
    "pycharm": {
     "name": "#%%\n"
    }
   }
  }
 ],
 "metadata": {
  "kernelspec": {
   "display_name": "Python 3",
   "language": "python",
   "name": "python3"
  },
  "language_info": {
   "codemirror_mode": {
    "name": "ipython",
    "version": 2
   },
   "file_extension": ".py",
   "mimetype": "text/x-python",
   "name": "python",
   "nbconvert_exporter": "python",
   "pygments_lexer": "ipython2",
   "version": "2.7.6"
  }
 },
 "nbformat": 4,
 "nbformat_minor": 0
}