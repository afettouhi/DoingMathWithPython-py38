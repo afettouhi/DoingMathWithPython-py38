{
 "cells": [
  {
   "cell_type": "code",
   "execution_count": 1,
   "metadata": {
    "collapsed": false
   },
   "outputs": [
    {
     "data": {
      "text/plain": "FiniteSet(FiniteSet(1), FiniteSet(1, 2), FiniteSet(1, 3), FiniteSet(1, 2, 3), FiniteSet(2), FiniteSet(2, 3), FiniteSet(3), EmptySet)",
      "text/latex": "$\\displaystyle \\left\\{\\emptyset, \\left\\{1\\right\\}, \\left\\{2\\right\\}, \\left\\{3\\right\\}, \\left\\{1, 2\\right\\}, \\left\\{1, 3\\right\\}, \\left\\{2, 3\\right\\}, \\left\\{1, 2, 3\\right\\}\\right\\}$"
     },
     "execution_count": 1,
     "metadata": {},
     "output_type": "execute_result"
    }
   ],
   "source": [
    "from sympy import FiniteSet\n",
    "s = FiniteSet(1, 2, 3)\n",
    "ps = s.powerset()\n",
    "ps"
   ]
  },
  {
   "cell_type": "code",
   "execution_count": 2,
   "metadata": {
    "collapsed": false
   },
   "outputs": [
    {
     "data": {
      "text/plain": "FiniteSet(1, 2, 3, 4, 6)",
      "text/latex": "$\\displaystyle \\left\\{1, 2, 3, 4, 6\\right\\}$"
     },
     "execution_count": 2,
     "metadata": {},
     "output_type": "execute_result"
    }
   ],
   "source": [
    "from sympy import FiniteSet\n",
    "s = FiniteSet(1, 2, 3)\n",
    "t = FiniteSet(2, 4, 6)\n",
    "s.union(t)"
   ]
  },
  {
   "cell_type": "code",
   "execution_count": 3,
   "metadata": {
    "collapsed": false
   },
   "outputs": [
    {
     "data": {
      "text/plain": "FiniteSet(2)",
      "text/latex": "$\\displaystyle \\left\\{2\\right\\}$"
     },
     "execution_count": 3,
     "metadata": {},
     "output_type": "execute_result"
    }
   ],
   "source": [
    "from sympy import FiniteSet\n",
    "s = FiniteSet(1, 2)\n",
    "t = FiniteSet(2, 3)\n",
    "s.intersect(t)"
   ]
  },
  {
   "cell_type": "code",
   "execution_count": 4,
   "metadata": {
    "collapsed": false
   },
   "outputs": [
    {
     "name": "stdout",
     "output_type": "stream",
     "text": [
      "(1, 3)\n",
      "(2, 3)\n",
      "(1, 4)\n",
      "(2, 4)\n"
     ]
    }
   ],
   "source": [
    "from sympy import FiniteSet\n",
    "s = FiniteSet(1, 2)\n",
    "t = FiniteSet(3, 4)\n",
    "p = s*t\n",
    "for elem in p:\n",
    "    print(elem)"
   ]
  },
  {
   "cell_type": "code",
   "execution_count": 5,
   "metadata": {
    "collapsed": false
   },
   "outputs": [
    {
     "name": "stdout",
     "output_type": "stream",
     "text": [
      "  Length(cm)   Gravity(m/s^2) Time Period(s) \n",
      "     15.0           9.78           0.778     \n",
      "     18.0           9.78           0.852     \n",
      "     15.0            9.8           0.777     \n",
      "     21.0           9.78           0.921     \n",
      "     18.0            9.8           0.852     \n",
      "     15.0           9.83           0.776     \n",
      "     22.5           9.78           0.953     \n",
      "     21.0            9.8           0.920     \n",
      "     18.0           9.83           0.850     \n",
      "     25.0           9.78           1.005     \n",
      "     22.5            9.8           0.952     \n",
      "     21.0           9.83           0.918     \n",
      "     25.0            9.8           1.004     \n",
      "     22.5           9.83           0.951     \n",
      "     25.0           9.83           1.002     \n"
     ]
    }
   ],
   "source": [
    "from sympy import FiniteSet, pi\n",
    "def time_period(length, g):\n",
    "    T = 2*pi*(length/g)**0.5\n",
    "    return T\n",
    "\n",
    "if __name__ == '__main__':\n",
    "    L = FiniteSet(15, 18, 21, 22.5, 25)\n",
    "    g_values = FiniteSet(9.8, 9.78, 9.83)\n",
    "    print('{0:^15}{1:^15}{2:^15}'.format('Length(cm)', 'Gravity(m/s^2)', 'Time Period(s)'))\n",
    "    for elem in L*g_values:\n",
    "        l = elem[0]\n",
    "        g = elem[1]\n",
    "        t = time_period(l/100, g)\n",
    "        print('{0:^15}{1:^15}{2:^15.3f}'.format(float(l), float(g), float(t)))\n"
   ]
  },
  {
   "cell_type": "code",
   "execution_count": 6,
   "metadata": {
    "collapsed": false
   },
   "outputs": [
    {
     "name": "stdout",
     "output_type": "stream",
     "text": [
      "Sample space: FiniteSet(1, 2, 3, 4, 5, 6, 7, 8, 9, 10, 11, 12, 13, 14, 15, 16, 17, 18, 19, 20)\n",
      "Event: FiniteSet(2, 3, 5, 7, 11, 13, 17, 19)\n",
      "Probability of rolling a prime: 0.40000\n"
     ]
    }
   ],
   "source": [
    "def probability(space, event):\n",
    "    return len(event)/len(space)\n",
    "\n",
    "def check_prime(number): \n",
    "    if number != 1:\n",
    "        for factor in range(2, number):\n",
    "            if number % factor == 0:\n",
    "                return False\n",
    "    else:\n",
    "        return False\n",
    "    return True\n",
    "\n",
    "if __name__ == '__main__':\n",
    "    space = FiniteSet(*range(1, 21))\n",
    "    primes = []\n",
    "    for num in space:\n",
    "        if check_prime(num):\n",
    "            primes.append(num)\n",
    "    event= FiniteSet(*primes)\n",
    "    p = probability(space, event)\n",
    "    print('Sample space: {0}'.format(space))\n",
    "    print('Event: {0}'.format(event))\n",
    "    print('Probability of rolling a prime: {0:.5f}'.format(p))"
   ]
  },
  {
   "cell_type": "code",
   "execution_count": 7,
   "metadata": {
    "collapsed": false
   },
   "outputs": [
    {
     "data": {
      "text/plain": "0.6666666666666666"
     },
     "execution_count": 7,
     "metadata": {},
     "output_type": "execute_result"
    }
   ],
   "source": [
    "from sympy import FiniteSet\n",
    "s = FiniteSet(1, 2, 3, 4, 5, 6)\n",
    "a = FiniteSet(2, 3, 5)\n",
    "b = FiniteSet(1, 3, 5)\n",
    "e = a.union(b)\n",
    "len(e)/len(s)"
   ]
  },
  {
   "cell_type": "code",
   "execution_count": 8,
   "metadata": {
    "collapsed": false
   },
   "outputs": [
    {
     "data": {
      "text/plain": "0.3333333333333333"
     },
     "execution_count": 8,
     "metadata": {},
     "output_type": "execute_result"
    }
   ],
   "source": [
    "from sympy import FiniteSet\n",
    "s = FiniteSet(1, 2, 3, 4, 5, 6)\n",
    "a = FiniteSet(2, 3, 5)\n",
    "b = FiniteSet(1, 3, 5)\n",
    "e = a.intersect(b)\n",
    "len(e)/len(s)"
   ]
  },
  {
   "cell_type": "code",
   "execution_count": 9,
   "metadata": {
    "collapsed": false
   },
   "outputs": [
    {
     "name": "stdout",
     "output_type": "stream",
     "text": [
      "Rolled: 6\n",
      "Rolled: 3\n",
      "Rolled: 2\n",
      "Rolled: 1\n",
      "Rolled: 1\n",
      "Rolled: 4\n",
      "Rolled: 6\n",
      "Score of 23 reached in 7 rolls\n"
     ]
    }
   ],
   "source": [
    "\"\"\"\n",
    "Roll a die until the total score is 20\n",
    "\"\"\"\n",
    "\n",
    "import matplotlib.pyplot as plt\n",
    "import random\n",
    "\n",
    "target_score = 20\n",
    "def roll():\n",
    "    return random.randint(1, 6)\n",
    "\n",
    "if __name__ == '__main__':\n",
    "    score = 0\n",
    "    num_rolls = 0\n",
    "    while score < target_score:\n",
    "        die_roll = roll()\n",
    "        num_rolls += 1\n",
    "        print('Rolled: {0}'.format(die_roll))\n",
    "        score += die_roll\n",
    "    print('Score of {0} reached in {1} rolls'.format(score, num_rolls))"
   ]
  },
  {
   "cell_type": "code",
   "execution_count": 10,
   "metadata": {
    "collapsed": false
   },
   "outputs": [
    {
     "name": "stdout",
     "output_type": "stream",
     "text": [
      "Probability:  0.37500\n"
     ]
    }
   ],
   "source": [
    "from sympy import FiniteSet\n",
    "import random\n",
    "\n",
    "def find_prob(target_score, max_rolls):\n",
    "    die_sides = FiniteSet(1, 2, 3, 4, 5, 6)\n",
    "    # sample space\n",
    "    s = die_sides**max_rolls\n",
    "    # Find the event set\n",
    "    if max_rolls > 1:\n",
    "        success_rolls = []\n",
    "        for elem in s:\n",
    "            if sum(elem) >= target_score:\n",
    "                success_rolls.append(elem)\n",
    "    else:\n",
    "        if target_score > 6:\n",
    "            success_rolls = []\n",
    "        else:\n",
    "            success_rolls = []\n",
    "            for roll in die_sides:\n",
    "                if roll >= target_score:\n",
    "                    success_rolls.append(roll)\n",
    "    e = FiniteSet(*success_rolls)\n",
    "    # calculate the probability of reaching target score\n",
    "    return len(e)/len(s)\n",
    "if __name__ == '__main__':\n",
    "    target_score = int(input('Enter the target score: '))\n",
    "    max_rolls  = int(input('Enter the maximum number of rolls allowed: '))\n",
    "    p = find_prob(target_score, max_rolls)\n",
    "    print('Probability:  {0:.5f}'.format(p))"
   ]
  },
  {
   "cell_type": "code",
   "execution_count": 11,
   "metadata": {
    "collapsed": false
   },
   "outputs": [
    {
     "data": {
      "text/plain": "<Figure size 432x288 with 1 Axes>",
      "image/png": "[encoded data removed]"
     },
     "metadata": {
      "needs_background": "light"
     },
     "output_type": "display_data"
    }
   ],
   "source": [
    "\"\"\"\n",
    "Simulate a fictional ATM that dispenses dollar bills\n",
    "of various denominations with varying probability\n",
    "\"\"\"\n",
    "\n",
    "import random\n",
    "import matplotlib.pyplot as plt\n",
    "\n",
    "def get_index(probability):\n",
    "    c_probability = 0\n",
    "    sum_probability = []\n",
    "    for p in probability:\n",
    "        c_probability += p\n",
    "        sum_probability.append(c_probability)\n",
    "    r = random.random()\n",
    "    for index, sp in enumerate(sum_probability):\n",
    "        if r <= sp:\n",
    "            return index\n",
    "    return len(probability)-1\n",
    "\n",
    "def dispense():\n",
    "    dollar_bills = [5, 10, 20, 50]\n",
    "    probability = [1/6, 1/6, 1/3, 1/3]\n",
    "    bill_index = get_index(probability)\n",
    "    return dollar_bills[bill_index]\n",
    "\n",
    "# Simulate a large number of bill withdrawls\n",
    "if __name__ == '__main__':\n",
    "    bill_dispensed = []\n",
    "    for i in range(10000):\n",
    "        bill_dispensed.append(dispense())\n",
    "    # plot a histogram \n",
    "    plt.hist(bill_dispensed)\n",
    "    plt.show()\n",
    "    "
   ]
  },
  {
   "cell_type": "code",
   "execution_count": 12,
   "metadata": {
    "collapsed": false
   },
   "outputs": [
    {
     "data": {
      "text/plain": "<Figure size 432x288 with 1 Axes>",
      "image/png": "[encoded data removed]"
     },
     "metadata": {},
     "output_type": "display_data"
    }
   ],
   "source": [
    "\"\"\"\n",
    "Draw a Venn diagram for two sets\n",
    "\"\"\"\n",
    "\n",
    "from matplotlib_venn import venn2\n",
    "import matplotlib.pyplot as plt\n",
    "from sympy import FiniteSet\n",
    "def draw_venn(sets):\n",
    "    venn2(subsets=sets)    \n",
    "    plt.show()\n",
    "    \n",
    "if __name__ == '__main__':\n",
    "    s1 = FiniteSet(1, 3, 5, 7, 9, 11, 13, 15, 17, 19)\n",
    "    s2 = FiniteSet(2, 3, 5, 7, 11, 13, 17, 19)\n",
    "    draw_venn([s1, s2])"
   ]
  },
  {
   "cell_type": "code",
   "execution_count": null,
   "outputs": [],
   "source": [
    "\n"
   ],
   "metadata": {
    "collapsed": false,
    "pycharm": {
     "name": "#%%\n"
    }
   }
  }
 ],
 "metadata": {
  "kernelspec": {
   "display_name": "Python 3",
   "language": "python",
   "name": "python3"
  },
  "language_info": {
   "codemirror_mode": {
    "name": "ipython",
    "version": 3
   },
   "file_extension": ".py",
   "mimetype": "text/x-python",
   "name": "python",
   "nbconvert_exporter": "python",
   "pygments_lexer": "ipython3",
   "version": "3.4.3"
  }
 },
 "nbformat": 4,
 "nbformat_minor": 0
}